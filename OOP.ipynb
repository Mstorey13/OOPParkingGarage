{
 "cells": [
  {
   "cell_type": "code",
   "execution_count": 9,
   "id": "149b059d",
   "metadata": {},
   "outputs": [
    {
     "name": "stdout",
     "output_type": "stream",
     "text": [
      "Welcome to the overpriced Parking Garage!\n"
     ]
    },
    {
     "ename": "AttributeError",
     "evalue": "'Garage' object has no attribute 'takeTicket'",
     "output_type": "error",
     "traceback": [
      "\u001b[0;31m---------------------------------------------------------------------------\u001b[0m",
      "\u001b[0;31mAttributeError\u001b[0m                            Traceback (most recent call last)",
      "Cell \u001b[0;32mIn[9], line 55\u001b[0m\n\u001b[1;32m     53\u001b[0m start \u001b[39m=\u001b[39m \u001b[39minput\u001b[39m(\u001b[39m\"\u001b[39m\u001b[39mWelcome to the over priced Garage! Would you like to enter? Enter [Y] for yes, [N] for no, [S] for show available spaces, [L] to leave, [Q] to quit: \u001b[39m\u001b[39m\"\u001b[39m)\n\u001b[1;32m     54\u001b[0m \u001b[39mif\u001b[39;00m start\u001b[39m.\u001b[39mlower() \u001b[39m==\u001b[39m \u001b[39m\"\u001b[39m\u001b[39my\u001b[39m\u001b[39m\"\u001b[39m:\n\u001b[0;32m---> 55\u001b[0m     ParkingGarage\u001b[39m.\u001b[39;49mtakeTicket\u001b[39m.\u001b[39mlower()\n\u001b[1;32m     56\u001b[0m     ParkingGarage\u001b[39m.\u001b[39mparkingSpots()\n\u001b[1;32m     57\u001b[0m     ParkingGarage\u001b[39m.\u001b[39mdisplayOpenSpots()\n",
      "\u001b[0;31mAttributeError\u001b[0m: 'Garage' object has no attribute 'takeTicket'"
     ]
    }
   ],
   "source": [
    "class Garage():\n",
    "    pass\n",
    "\n",
    "print(\"Welcome to the overpriced Parking Garage!\")\n",
    "\n",
    "def __init__(self):\n",
    "        self.tickets = 8\n",
    "        self.spots = [\"1\", \"2\", \"3\", \"4\", \"5\", \"6\", \"7\", \"8\"]\n",
    "        self.takenSpots = []\n",
    "        self.currentTickets = {\"Paid\" :False}\n",
    "        \n",
    "        def displayOpenSpots(self):\n",
    "            print(\"The following parking spaces in our garage are available:\")\n",
    "            for spot in self.spots:\n",
    "                print(spot)\n",
    "        \n",
    "        def takeTicket(self):\n",
    "            self.displayOpenSpots()\n",
    "        if self.tickets > 0: \n",
    "            response = input(\"Please select a space: [1], [2], [3], [4], [5], [6], [7], [8] \")\n",
    "            if response.lower() == \"1\" or \"2\" or \"3\" or \"4\" or \"5\" or \"6\" or \"7\" or \"8\":\n",
    "                self.spots.remove(response.upper())\n",
    "                self.takenSpots.append(response.upper())\n",
    "                print(f\" You have selected spot {response}, your ticket is printing.\")\n",
    "                self.tickets -= 1\n",
    "            elif self.tickets <= 0:\n",
    "                print(f\"There are no spots, leave.\")\n",
    "\n",
    "        def parkingSpots(self):\n",
    "            if self.tickets > 0:\n",
    "                price = input(\"Your total is $300, please use cash/credit/Tap pay: [300] \")\n",
    "            if price == \"300\":\n",
    "                print(\"Thank you for draining your wallet, you have 15 minutes to get out.\")\n",
    "                self.currentTickets[\"Paid\"] = True\n",
    "            else:\n",
    "                print(\"We will steal your tires if you do not pay!!!\")\n",
    "    \n",
    "        def leaveGarage(self):\n",
    "            if self.currentTickets[\"Paid\"] == False:\n",
    "                self.parkingSpots()\n",
    "            elif self.currentTickets[\"Paid\"] == True:\n",
    "                outcome = input(\"Please enter the space you paid for: [1], [2], [3], [4], [5], [6], [7], [8] \")\n",
    "            if outcome.lower() == \"1\" or \"2\" or \"3\" or \"4\" or \"5\" or \"6\" or \"7\" or \"8\":\n",
    "                self.takenSpots.remove(outcome.upper())\n",
    "                self.spots.append(outcome.upper())\n",
    "            print(\"Thank you for draining your wallet, you have 15 minutes to get out.\")\n",
    "            print(\"Have a nice day I guess...\")\n",
    "            self.tickets += 1\n",
    "          \n",
    "ParkingGarage = Garage()\n",
    "\n",
    "while True:\n",
    "        start = input(\"Welcome to the over priced Garage! Would you like to enter? Enter [Y] for yes, [N] for no, [S] for show available spaces, [L] to leave, [Q] to quit: \")\n",
    "        if start.lower() == \"y\":\n",
    "            ParkingGarage.takeTicket()\n",
    "            ParkingGarage.parkingSpots()\n",
    "            ParkingGarage.displayOpenSpots()\n",
    "        elif start.lower() == \"l\":\n",
    "            ParkingGarage.leaveGarage()\n",
    "        elif start.lower() == \"s\":\n",
    "            ParkingGarage.displayOpenSpots()\n",
    "        elif start.lower() == \"n\":\n",
    "            print(\"Get out, bye!\")\n",
    "        elif start.lower() == \"q\":\n",
    "            print(\"Get out, bye!\")\n",
    "\n"
   ]
  },
  {
   "cell_type": "code",
   "execution_count": null,
   "id": "5034ce88",
   "metadata": {},
   "outputs": [],
   "source": []
  }
 ],
 "metadata": {
  "kernelspec": {
   "display_name": "Python 3 (ipykernel)",
   "language": "python",
   "name": "python3"
  },
  "language_info": {
   "codemirror_mode": {
    "name": "ipython",
    "version": 3
   },
   "file_extension": ".py",
   "mimetype": "text/x-python",
   "name": "python",
   "nbconvert_exporter": "python",
   "pygments_lexer": "ipython3",
   "version": "3.9.13"
  }
 },
 "nbformat": 4,
 "nbformat_minor": 5
}
