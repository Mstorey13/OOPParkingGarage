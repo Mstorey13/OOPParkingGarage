{
 "cells": [
  {
   "cell_type": "code",
   "execution_count": 79,
   "id": "149b059d",
   "metadata": {},
   "outputs": [
    {
     "name": "stdout",
     "output_type": "stream",
     "text": [
      "Welcome to the overpriced Parking Garage!\n",
      "Welcome to the over priced Garage! Would you like to enter? Enter [Y] for yes, [N] for no, [S] for show available spaces, [L] to leave, [Q] to quit: y\n"
     ]
    },
    {
     "ename": "AttributeError",
     "evalue": "'Garage' object has no attribute 'Tickets'",
     "output_type": "error",
     "traceback": [
      "\u001b[0;31m---------------------------------------------------------------------------\u001b[0m",
      "\u001b[0;31mAttributeError\u001b[0m                            Traceback (most recent call last)",
      "\u001b[0;32m/var/folders/bz/f_rv1z690hxfh5r5hkbqd8s80000gn/T/ipykernel_84492/826157313.py\u001b[0m in \u001b[0;36m<module>\u001b[0;34m\u001b[0m\n\u001b[1;32m     55\u001b[0m     \u001b[0mstart\u001b[0m \u001b[0;34m=\u001b[0m \u001b[0minput\u001b[0m\u001b[0;34m(\u001b[0m\u001b[0;34m\"Welcome to the over priced Garage! Would you like to enter? Enter [Y] for yes, [N] for no, [S] for show available spaces, [L] to leave, [Q] to quit: \"\u001b[0m\u001b[0;34m)\u001b[0m\u001b[0;34m\u001b[0m\u001b[0;34m\u001b[0m\u001b[0m\n\u001b[1;32m     56\u001b[0m     \u001b[0;32mif\u001b[0m \u001b[0mstart\u001b[0m\u001b[0;34m.\u001b[0m\u001b[0mlower\u001b[0m\u001b[0;34m(\u001b[0m\u001b[0;34m)\u001b[0m \u001b[0;34m==\u001b[0m \u001b[0;34m\"y\"\u001b[0m\u001b[0;34m:\u001b[0m\u001b[0;34m\u001b[0m\u001b[0;34m\u001b[0m\u001b[0m\n\u001b[0;32m---> 57\u001b[0;31m         \u001b[0mOutlawGarage\u001b[0m\u001b[0;34m.\u001b[0m\u001b[0mTickets\u001b[0m\u001b[0;34m(\u001b[0m\u001b[0;34m)\u001b[0m\u001b[0;34m\u001b[0m\u001b[0;34m\u001b[0m\u001b[0m\n\u001b[0m\u001b[1;32m     58\u001b[0m         \u001b[0mOutlawGarage\u001b[0m\u001b[0;34m.\u001b[0m\u001b[0mparkingSpots\u001b[0m\u001b[0;34m(\u001b[0m\u001b[0;34m)\u001b[0m\u001b[0;34m\u001b[0m\u001b[0;34m\u001b[0m\u001b[0m\n\u001b[1;32m     59\u001b[0m         \u001b[0mOutlawGarage\u001b[0m\u001b[0;34m.\u001b[0m\u001b[0mdisplayOpenSpots\u001b[0m\u001b[0;34m(\u001b[0m\u001b[0;34m)\u001b[0m\u001b[0;34m\u001b[0m\u001b[0;34m\u001b[0m\u001b[0m\n",
      "\u001b[0;31mAttributeError\u001b[0m: 'Garage' object has no attribute 'Tickets'"
     ]
    }
   ],
   "source": [
    "class Garage():\n",
    "    pass\n",
    "\n",
    "print(\"Welcome to the overpriced Parking Garage!\")\n",
    "\n",
    "def __init__(self):\n",
    "        self.tickets = 8\n",
    "        self.spots = [\"1\", \"2\", \"3\", \"4\", \"5\", \"6\", \"7\", \"8\"]\n",
    "        self.takenSpots = []\n",
    "        self.currentTickets = {\"Paid\" :False}\n",
    "        \n",
    "def displayOpenSpots(self):\n",
    "        print(\"The following parking spaces in our garage are available:\")\n",
    "        for spot in self.spots:\n",
    "            print(spot)\n",
    "        \n",
    "def takeTicket(self):\n",
    "        self.displayOpenSpots()\n",
    "        if self.tickets > 0: \n",
    "            response = input(\"Please select a space: [1], [2], [3], [4], [5], [6], [7], [8] \")\n",
    "            if response.lower() == \"1\" or \"2\" or \"3\" or \"4\" or \"5\" or \"6\" or \"7\" or \"8\":\n",
    "                self.spots.remove(response.upper())\n",
    "                self.takenSpots.append(response.upper())\n",
    "                print(f\" You have selected spot {response}, your ticket is printing.\")\n",
    "                slef.tickets -= 1\n",
    "            elif self.tickets <= 0:\n",
    "                print(f\"There are no spots, leave.\")\n",
    "\n",
    "def parkingSpots(self):\n",
    "        if self.tickets > 0:\n",
    "            price = input(\"Your total is $300, please use cash/credit/Tap pay: [300] \")\n",
    "            if price == \"300\":\n",
    "                print(\"Thank you for draining your wallet, you have 15 minutes to get out.\")\n",
    "                self.currentTickets[\"Paid\"] = True\n",
    "            else:\n",
    "                print(\"We will steal your tires if you do not pay!!!\")\n",
    "        elif self.tickets <= 0:\n",
    "                print(f\"We only have {self.tickets} spots available, drive around and try again \")\n",
    "    \n",
    "def leaveGarage(self):\n",
    "        if self.currentTickets[\"Paid\"] == False:\n",
    "            self.parkingSpots()\n",
    "        elif self.currentTickets[\"Paid\"] == True:\n",
    "            outcome = input(\"Please enter the space you paid for: [1], [2], [3], [4], [5], [6], [7], [8] \")\n",
    "            if outcome.lower() == \"1\" or \"2\" or \"3\" or \"4\" or \"5\" or \"6\" or \"7\" or \"8\":\n",
    "                self.takenSpots.remove(outcome.upper())\n",
    "                self.spots.append(outcome.upper())\n",
    "            print(\"Thank you for draining your wallet, you have 15 minutes to get out.\")\n",
    "            print(\"Have a nice day I guess...\")\n",
    "            self.tickets += 1\n",
    "          \n",
    "ParkingGarage = Garage()\n",
    "\n",
    "while True:\n",
    "    start = input(\"Welcome to the over priced Garage! Would you like to enter? Enter [Y] for yes, [N] for no, [S] for show available spaces, [L] to leave, [Q] to quit: \")\n",
    "    if start.lower() == \"y\":\n",
    "        ParkingGarage.Tickets()\n",
    "        ParkingGarage.parkingSpots()\n",
    "        ParkingGarage.displayOpenSpots()\n",
    "    elif start.lower() == \"l\":\n",
    "        ParkingGargage.leaveGarage()\n",
    "    elif start.lower() == \"s\":\n",
    "        ParkingGarage.displayOpenSpots()\n",
    "    elif start.lower == \"n\":\n",
    "        print(\"Get out, bye!\")\n",
    "    elif start.lower == \"q\":\n",
    "        print(\"Get out, bye!\")\n",
    "break\n"
   ]
  },
  {
   "cell_type": "code",
   "execution_count": null,
   "id": "5034ce88",
   "metadata": {},
   "outputs": [],
   "source": []
  }
 ],
 "metadata": {
  "kernelspec": {
   "display_name": "Python 3 (ipykernel)",
   "language": "python",
   "name": "python3"
  },
  "language_info": {
   "codemirror_mode": {
    "name": "ipython",
    "version": 3
   },
   "file_extension": ".py",
   "mimetype": "text/x-python",
   "name": "python",
   "nbconvert_exporter": "python",
   "pygments_lexer": "ipython3",
   "version": "3.9.13"
  }
 },
 "nbformat": 4,
 "nbformat_minor": 5
}
